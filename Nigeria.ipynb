{
 "cells": [
  {
   "cell_type": "code",
   "execution_count": 306,
   "metadata": {},
   "outputs": [],
   "source": [
    "import pandas as pd\n",
    "import numpy as np"
   ]
  },
  {
   "cell_type": "code",
   "execution_count": 307,
   "metadata": {},
   "outputs": [],
   "source": [
    "url_1 = 'https://en.wikipedia.org/wiki/List_of_Nigerian_states_by_area'"
   ]
  },
  {
   "cell_type": "code",
   "execution_count": 308,
   "metadata": {},
   "outputs": [],
   "source": [
    "my_list = pd.read_html(url_1)"
   ]
  },
  {
   "cell_type": "code",
   "execution_count": 309,
   "metadata": {},
   "outputs": [],
   "source": [
    "states = my_list[0]"
   ]
  },
  {
   "cell_type": "code",
   "execution_count": 310,
   "metadata": {},
   "outputs": [
    {
     "data": {
      "text/html": [
       "<div>\n",
       "<style scoped>\n",
       "    .dataframe tbody tr th:only-of-type {\n",
       "        vertical-align: middle;\n",
       "    }\n",
       "\n",
       "    .dataframe tbody tr th {\n",
       "        vertical-align: top;\n",
       "    }\n",
       "\n",
       "    .dataframe thead th {\n",
       "        text-align: right;\n",
       "    }\n",
       "</style>\n",
       "<table border=\"1\" class=\"dataframe\">\n",
       "  <thead>\n",
       "    <tr style=\"text-align: right;\">\n",
       "      <th></th>\n",
       "      <th>Rank</th>\n",
       "      <th>State</th>\n",
       "      <th>km²</th>\n",
       "    </tr>\n",
       "  </thead>\n",
       "  <tbody>\n",
       "    <tr>\n",
       "      <th>0</th>\n",
       "      <td>1</td>\n",
       "      <td>Niger State</td>\n",
       "      <td>76363</td>\n",
       "    </tr>\n",
       "    <tr>\n",
       "      <th>1</th>\n",
       "      <td>2</td>\n",
       "      <td>Borno State</td>\n",
       "      <td>70898</td>\n",
       "    </tr>\n",
       "    <tr>\n",
       "      <th>2</th>\n",
       "      <td>3</td>\n",
       "      <td>Taraba State</td>\n",
       "      <td>54473</td>\n",
       "    </tr>\n",
       "    <tr>\n",
       "      <th>3</th>\n",
       "      <td>4</td>\n",
       "      <td>Kaduna State</td>\n",
       "      <td>46053</td>\n",
       "    </tr>\n",
       "    <tr>\n",
       "      <th>4</th>\n",
       "      <td>5</td>\n",
       "      <td>Bauchi State</td>\n",
       "      <td>45837</td>\n",
       "    </tr>\n",
       "  </tbody>\n",
       "</table>\n",
       "</div>"
      ],
      "text/plain": [
       "  Rank         State    km²\n",
       "0    1   Niger State  76363\n",
       "1    2   Borno State  70898\n",
       "2    3  Taraba State  54473\n",
       "3    4  Kaduna State  46053\n",
       "4    5  Bauchi State  45837"
      ]
     },
     "execution_count": 310,
     "metadata": {},
     "output_type": "execute_result"
    }
   ],
   "source": [
    "states = pd.DataFrame(states)\n",
    "states.head()"
   ]
  },
  {
   "cell_type": "code",
   "execution_count": 311,
   "metadata": {},
   "outputs": [
    {
     "data": {
      "text/html": [
       "<div>\n",
       "<style scoped>\n",
       "    .dataframe tbody tr th:only-of-type {\n",
       "        vertical-align: middle;\n",
       "    }\n",
       "\n",
       "    .dataframe tbody tr th {\n",
       "        vertical-align: top;\n",
       "    }\n",
       "\n",
       "    .dataframe thead th {\n",
       "        text-align: right;\n",
       "    }\n",
       "</style>\n",
       "<table border=\"1\" class=\"dataframe\">\n",
       "  <thead>\n",
       "    <tr style=\"text-align: right;\">\n",
       "      <th></th>\n",
       "      <th>Rank</th>\n",
       "      <th>State</th>\n",
       "      <th>Area</th>\n",
       "    </tr>\n",
       "  </thead>\n",
       "  <tbody>\n",
       "    <tr>\n",
       "      <th>0</th>\n",
       "      <td>1</td>\n",
       "      <td>Niger State</td>\n",
       "      <td>76363</td>\n",
       "    </tr>\n",
       "    <tr>\n",
       "      <th>1</th>\n",
       "      <td>2</td>\n",
       "      <td>Borno State</td>\n",
       "      <td>70898</td>\n",
       "    </tr>\n",
       "    <tr>\n",
       "      <th>2</th>\n",
       "      <td>3</td>\n",
       "      <td>Taraba State</td>\n",
       "      <td>54473</td>\n",
       "    </tr>\n",
       "    <tr>\n",
       "      <th>3</th>\n",
       "      <td>4</td>\n",
       "      <td>Kaduna State</td>\n",
       "      <td>46053</td>\n",
       "    </tr>\n",
       "    <tr>\n",
       "      <th>4</th>\n",
       "      <td>5</td>\n",
       "      <td>Bauchi State</td>\n",
       "      <td>45837</td>\n",
       "    </tr>\n",
       "  </tbody>\n",
       "</table>\n",
       "</div>"
      ],
      "text/plain": [
       "  Rank         State   Area\n",
       "0    1   Niger State  76363\n",
       "1    2   Borno State  70898\n",
       "2    3  Taraba State  54473\n",
       "3    4  Kaduna State  46053\n",
       "4    5  Bauchi State  45837"
      ]
     },
     "execution_count": 311,
     "metadata": {},
     "output_type": "execute_result"
    }
   ],
   "source": [
    "states.columns = ['Rank', 'State', 'Area']\n",
    "states.head()"
   ]
  },
  {
   "cell_type": "code",
   "execution_count": 312,
   "metadata": {},
   "outputs": [
    {
     "data": {
      "text/html": [
       "<div>\n",
       "<style scoped>\n",
       "    .dataframe tbody tr th:only-of-type {\n",
       "        vertical-align: middle;\n",
       "    }\n",
       "\n",
       "    .dataframe tbody tr th {\n",
       "        vertical-align: top;\n",
       "    }\n",
       "\n",
       "    .dataframe thead th {\n",
       "        text-align: right;\n",
       "    }\n",
       "</style>\n",
       "<table border=\"1\" class=\"dataframe\">\n",
       "  <thead>\n",
       "    <tr style=\"text-align: right;\">\n",
       "      <th></th>\n",
       "      <th>State</th>\n",
       "      <th>Area</th>\n",
       "    </tr>\n",
       "  </thead>\n",
       "  <tbody>\n",
       "    <tr>\n",
       "      <th>0</th>\n",
       "      <td>Niger State</td>\n",
       "      <td>76363</td>\n",
       "    </tr>\n",
       "  </tbody>\n",
       "</table>\n",
       "</div>"
      ],
      "text/plain": [
       "         State   Area\n",
       "0  Niger State  76363"
      ]
     },
     "execution_count": 312,
     "metadata": {},
     "output_type": "execute_result"
    }
   ],
   "source": [
    "states[['State','Area']][states.Area == states['Area'].max()]"
   ]
  },
  {
   "cell_type": "code",
   "execution_count": 313,
   "metadata": {},
   "outputs": [
    {
     "data": {
      "text/html": [
       "<div>\n",
       "<style scoped>\n",
       "    .dataframe tbody tr th:only-of-type {\n",
       "        vertical-align: middle;\n",
       "    }\n",
       "\n",
       "    .dataframe tbody tr th {\n",
       "        vertical-align: top;\n",
       "    }\n",
       "\n",
       "    .dataframe thead th {\n",
       "        text-align: right;\n",
       "    }\n",
       "</style>\n",
       "<table border=\"1\" class=\"dataframe\">\n",
       "  <thead>\n",
       "    <tr style=\"text-align: right;\">\n",
       "      <th></th>\n",
       "      <th>State</th>\n",
       "      <th>Area</th>\n",
       "    </tr>\n",
       "  </thead>\n",
       "  <tbody>\n",
       "    <tr>\n",
       "      <th>36</th>\n",
       "      <td>Lagos State</td>\n",
       "      <td>3345</td>\n",
       "    </tr>\n",
       "  </tbody>\n",
       "</table>\n",
       "</div>"
      ],
      "text/plain": [
       "          State  Area\n",
       "36  Lagos State  3345"
      ]
     },
     "execution_count": 313,
     "metadata": {},
     "output_type": "execute_result"
    }
   ],
   "source": [
    "states[['State','Area']][states.Area == states['Area'].min()]"
   ]
  },
  {
   "cell_type": "code",
   "execution_count": 314,
   "metadata": {},
   "outputs": [],
   "source": [
    "url = 'https://www.nounportal.org/list-of-the-36-states-of-nigeria-and-their-capitals/'"
   ]
  },
  {
   "cell_type": "code",
   "execution_count": 315,
   "metadata": {},
   "outputs": [],
   "source": [
    "df = pd.read_html(url)"
   ]
  },
  {
   "cell_type": "code",
   "execution_count": 316,
   "metadata": {},
   "outputs": [
    {
     "data": {
      "text/html": [
       "<div>\n",
       "<style scoped>\n",
       "    .dataframe tbody tr th:only-of-type {\n",
       "        vertical-align: middle;\n",
       "    }\n",
       "\n",
       "    .dataframe tbody tr th {\n",
       "        vertical-align: top;\n",
       "    }\n",
       "\n",
       "    .dataframe thead th {\n",
       "        text-align: right;\n",
       "    }\n",
       "</style>\n",
       "<table border=\"1\" class=\"dataframe\">\n",
       "  <thead>\n",
       "    <tr style=\"text-align: right;\">\n",
       "      <th></th>\n",
       "      <th>State</th>\n",
       "      <th>Capital</th>\n",
       "    </tr>\n",
       "  </thead>\n",
       "  <tbody>\n",
       "    <tr>\n",
       "      <th>0</th>\n",
       "      <td>Abia State</td>\n",
       "      <td>Umuahia</td>\n",
       "    </tr>\n",
       "    <tr>\n",
       "      <th>1</th>\n",
       "      <td>Adamawa State</td>\n",
       "      <td>Yola</td>\n",
       "    </tr>\n",
       "    <tr>\n",
       "      <th>2</th>\n",
       "      <td>Akwa Ibom State</td>\n",
       "      <td>Uyo</td>\n",
       "    </tr>\n",
       "    <tr>\n",
       "      <th>3</th>\n",
       "      <td>Anambra State</td>\n",
       "      <td>Awka</td>\n",
       "    </tr>\n",
       "    <tr>\n",
       "      <th>4</th>\n",
       "      <td>Bauchi State</td>\n",
       "      <td>Bauchi</td>\n",
       "    </tr>\n",
       "  </tbody>\n",
       "</table>\n",
       "</div>"
      ],
      "text/plain": [
       "             State  Capital\n",
       "0       Abia State  Umuahia\n",
       "1    Adamawa State     Yola\n",
       "2  Akwa Ibom State      Uyo\n",
       "3    Anambra State     Awka\n",
       "4     Bauchi State   Bauchi"
      ]
     },
     "execution_count": 316,
     "metadata": {},
     "output_type": "execute_result"
    }
   ],
   "source": [
    "capitals = df[0]\n",
    "capitals = pd.DataFrame(capitals)\n",
    "capitals.head()"
   ]
  },
  {
   "cell_type": "code",
   "execution_count": 317,
   "metadata": {},
   "outputs": [],
   "source": [
    "states = pd.merge(states, capitals, how='inner' , sort=True)"
   ]
  },
  {
   "cell_type": "code",
   "execution_count": 318,
   "metadata": {},
   "outputs": [],
   "source": [
    "states = states.rename(columns = {'Rank': 'Area_Position'})"
   ]
  },
  {
   "cell_type": "code",
   "execution_count": 319,
   "metadata": {},
   "outputs": [],
   "source": [
    "new_order = ['State', 'Capital', 'Area', 'Area_Position']"
   ]
  },
  {
   "cell_type": "code",
   "execution_count": 320,
   "metadata": {},
   "outputs": [
    {
     "data": {
      "text/html": [
       "<div>\n",
       "<style scoped>\n",
       "    .dataframe tbody tr th:only-of-type {\n",
       "        vertical-align: middle;\n",
       "    }\n",
       "\n",
       "    .dataframe tbody tr th {\n",
       "        vertical-align: top;\n",
       "    }\n",
       "\n",
       "    .dataframe thead th {\n",
       "        text-align: right;\n",
       "    }\n",
       "</style>\n",
       "<table border=\"1\" class=\"dataframe\">\n",
       "  <thead>\n",
       "    <tr style=\"text-align: right;\">\n",
       "      <th></th>\n",
       "      <th>State</th>\n",
       "      <th>Capital</th>\n",
       "      <th>Area</th>\n",
       "      <th>Area_Position</th>\n",
       "    </tr>\n",
       "  </thead>\n",
       "  <tbody>\n",
       "    <tr>\n",
       "      <th>0</th>\n",
       "      <td>Abia State</td>\n",
       "      <td>Umuahia</td>\n",
       "      <td>6320</td>\n",
       "      <td>32</td>\n",
       "    </tr>\n",
       "    <tr>\n",
       "      <th>1</th>\n",
       "      <td>Adamawa State</td>\n",
       "      <td>Yola</td>\n",
       "      <td>36917</td>\n",
       "      <td>8</td>\n",
       "    </tr>\n",
       "    <tr>\n",
       "      <th>2</th>\n",
       "      <td>Akwa Ibom State</td>\n",
       "      <td>Uyo</td>\n",
       "      <td>7081</td>\n",
       "      <td>30</td>\n",
       "    </tr>\n",
       "    <tr>\n",
       "      <th>3</th>\n",
       "      <td>Anambra State</td>\n",
       "      <td>Awka</td>\n",
       "      <td>4844</td>\n",
       "      <td>35</td>\n",
       "    </tr>\n",
       "    <tr>\n",
       "      <th>4</th>\n",
       "      <td>Bauchi State</td>\n",
       "      <td>Bauchi</td>\n",
       "      <td>45837</td>\n",
       "      <td>5</td>\n",
       "    </tr>\n",
       "  </tbody>\n",
       "</table>\n",
       "</div>"
      ],
      "text/plain": [
       "             State  Capital   Area Area_Position\n",
       "0       Abia State  Umuahia   6320            32\n",
       "1    Adamawa State     Yola  36917             8\n",
       "2  Akwa Ibom State      Uyo   7081            30\n",
       "3    Anambra State     Awka   4844            35\n",
       "4     Bauchi State   Bauchi  45837             5"
      ]
     },
     "execution_count": 320,
     "metadata": {},
     "output_type": "execute_result"
    }
   ],
   "source": [
    "states = states.reindex(columns=new_order)\n",
    "states.head()"
   ]
  },
  {
   "cell_type": "code",
   "execution_count": 321,
   "metadata": {},
   "outputs": [],
   "source": [
    "url = 'https://en.wikipedia.org/wiki/List_of_Nigerian_states_by_population'"
   ]
  },
  {
   "cell_type": "code",
   "execution_count": 322,
   "metadata": {},
   "outputs": [],
   "source": [
    "df = pd.read_html(url)"
   ]
  },
  {
   "cell_type": "code",
   "execution_count": 323,
   "metadata": {},
   "outputs": [],
   "source": [
    "pop = df[0]\n"
   ]
  },
  {
   "cell_type": "code",
   "execution_count": 324,
   "metadata": {},
   "outputs": [
    {
     "data": {
      "text/html": [
       "<div>\n",
       "<style scoped>\n",
       "    .dataframe tbody tr th:only-of-type {\n",
       "        vertical-align: middle;\n",
       "    }\n",
       "\n",
       "    .dataframe tbody tr th {\n",
       "        vertical-align: top;\n",
       "    }\n",
       "\n",
       "    .dataframe thead th {\n",
       "        text-align: right;\n",
       "    }\n",
       "</style>\n",
       "<table border=\"1\" class=\"dataframe\">\n",
       "  <thead>\n",
       "    <tr style=\"text-align: right;\">\n",
       "      <th></th>\n",
       "      <th>Rank</th>\n",
       "      <th>State</th>\n",
       "      <th>Population</th>\n",
       "    </tr>\n",
       "  </thead>\n",
       "  <tbody>\n",
       "    <tr>\n",
       "      <th>0</th>\n",
       "      <td>1</td>\n",
       "      <td>Kano State</td>\n",
       "      <td>9401288</td>\n",
       "    </tr>\n",
       "    <tr>\n",
       "      <th>1</th>\n",
       "      <td>2</td>\n",
       "      <td>Lagos State</td>\n",
       "      <td>9113605</td>\n",
       "    </tr>\n",
       "    <tr>\n",
       "      <th>2</th>\n",
       "      <td>3</td>\n",
       "      <td>Kaduna State</td>\n",
       "      <td>6113503</td>\n",
       "    </tr>\n",
       "    <tr>\n",
       "      <th>3</th>\n",
       "      <td>4</td>\n",
       "      <td>Katsina State</td>\n",
       "      <td>5801584</td>\n",
       "    </tr>\n",
       "    <tr>\n",
       "      <th>4</th>\n",
       "      <td>5</td>\n",
       "      <td>Oyo State</td>\n",
       "      <td>5580894</td>\n",
       "    </tr>\n",
       "  </tbody>\n",
       "</table>\n",
       "</div>"
      ],
      "text/plain": [
       "  Rank          State  Population\n",
       "0    1     Kano State     9401288\n",
       "1    2    Lagos State     9113605\n",
       "2    3   Kaduna State     6113503\n",
       "3    4  Katsina State     5801584\n",
       "4    5      Oyo State     5580894"
      ]
     },
     "execution_count": 324,
     "metadata": {},
     "output_type": "execute_result"
    }
   ],
   "source": [
    "populations = pd.DataFrame(pop)\n",
    "populations.head()"
   ]
  },
  {
   "cell_type": "code",
   "execution_count": 325,
   "metadata": {},
   "outputs": [
    {
     "data": {
      "text/html": [
       "<div>\n",
       "<style scoped>\n",
       "    .dataframe tbody tr th:only-of-type {\n",
       "        vertical-align: middle;\n",
       "    }\n",
       "\n",
       "    .dataframe tbody tr th {\n",
       "        vertical-align: top;\n",
       "    }\n",
       "\n",
       "    .dataframe thead th {\n",
       "        text-align: right;\n",
       "    }\n",
       "</style>\n",
       "<table border=\"1\" class=\"dataframe\">\n",
       "  <thead>\n",
       "    <tr style=\"text-align: right;\">\n",
       "      <th></th>\n",
       "      <th>State</th>\n",
       "      <th>Capital</th>\n",
       "      <th>Area</th>\n",
       "      <th>Area_Position</th>\n",
       "      <th>pop_position</th>\n",
       "      <th>pop_2006</th>\n",
       "    </tr>\n",
       "  </thead>\n",
       "  <tbody>\n",
       "    <tr>\n",
       "      <th>0</th>\n",
       "      <td>Abia State</td>\n",
       "      <td>Umuahia</td>\n",
       "      <td>6320</td>\n",
       "      <td>32</td>\n",
       "      <td>28</td>\n",
       "      <td>2845380</td>\n",
       "    </tr>\n",
       "    <tr>\n",
       "      <th>1</th>\n",
       "      <td>Adamawa State</td>\n",
       "      <td>Yola</td>\n",
       "      <td>36917</td>\n",
       "      <td>8</td>\n",
       "      <td>26</td>\n",
       "      <td>3178950</td>\n",
       "    </tr>\n",
       "    <tr>\n",
       "      <th>2</th>\n",
       "      <td>Akwa Ibom State</td>\n",
       "      <td>Uyo</td>\n",
       "      <td>7081</td>\n",
       "      <td>30</td>\n",
       "      <td>15</td>\n",
       "      <td>3902051</td>\n",
       "    </tr>\n",
       "    <tr>\n",
       "      <th>3</th>\n",
       "      <td>Anambra State</td>\n",
       "      <td>Awka</td>\n",
       "      <td>4844</td>\n",
       "      <td>35</td>\n",
       "      <td>10</td>\n",
       "      <td>4177828</td>\n",
       "    </tr>\n",
       "    <tr>\n",
       "      <th>4</th>\n",
       "      <td>Bauchi State</td>\n",
       "      <td>Bauchi</td>\n",
       "      <td>45837</td>\n",
       "      <td>5</td>\n",
       "      <td>7</td>\n",
       "      <td>4653066</td>\n",
       "    </tr>\n",
       "  </tbody>\n",
       "</table>\n",
       "</div>"
      ],
      "text/plain": [
       "             State  Capital   Area Area_Position pop_position  pop_2006\n",
       "0       Abia State  Umuahia   6320            32           28   2845380\n",
       "1    Adamawa State     Yola  36917             8           26   3178950\n",
       "2  Akwa Ibom State      Uyo   7081            30           15   3902051\n",
       "3    Anambra State     Awka   4844            35           10   4177828\n",
       "4     Bauchi State   Bauchi  45837             5            7   4653066"
      ]
     },
     "execution_count": 325,
     "metadata": {},
     "output_type": "execute_result"
    }
   ],
   "source": [
    "states = pd.merge(states, populations, how='inner')\n",
    "states = states.rename(columns = {'Population': 'pop_2006', 'Rank': 'pop_position'})\n",
    "states.head()"
   ]
  },
  {
   "cell_type": "markdown",
   "metadata": {},
   "source": [
    "Inserting ID column as the beginning, \n",
    "\n",
    "```python\n",
    "df.insert(0, 'New_ID', range(880, 880 + len(df)))\n",
    "df\n",
    "```\n"
   ]
  },
  {
   "cell_type": "code",
   "execution_count": 326,
   "metadata": {},
   "outputs": [
    {
     "data": {
      "text/html": [
       "<div>\n",
       "<style scoped>\n",
       "    .dataframe tbody tr th:only-of-type {\n",
       "        vertical-align: middle;\n",
       "    }\n",
       "\n",
       "    .dataframe tbody tr th {\n",
       "        vertical-align: top;\n",
       "    }\n",
       "\n",
       "    .dataframe thead th {\n",
       "        text-align: right;\n",
       "    }\n",
       "</style>\n",
       "<table border=\"1\" class=\"dataframe\">\n",
       "  <thead>\n",
       "    <tr style=\"text-align: right;\">\n",
       "      <th></th>\n",
       "      <th>State</th>\n",
       "      <th>Capital</th>\n",
       "      <th>Area</th>\n",
       "      <th>Area_Position</th>\n",
       "      <th>pop_position</th>\n",
       "      <th>pop_2006</th>\n",
       "    </tr>\n",
       "  </thead>\n",
       "  <tbody>\n",
       "    <tr>\n",
       "      <th>0</th>\n",
       "      <td>Abia State</td>\n",
       "      <td>Umuahia</td>\n",
       "      <td>6320</td>\n",
       "      <td>32</td>\n",
       "      <td>28</td>\n",
       "      <td>2845380</td>\n",
       "    </tr>\n",
       "    <tr>\n",
       "      <th>1</th>\n",
       "      <td>Adamawa State</td>\n",
       "      <td>Yola</td>\n",
       "      <td>36917</td>\n",
       "      <td>8</td>\n",
       "      <td>26</td>\n",
       "      <td>3178950</td>\n",
       "    </tr>\n",
       "    <tr>\n",
       "      <th>2</th>\n",
       "      <td>Akwa Ibom State</td>\n",
       "      <td>Uyo</td>\n",
       "      <td>7081</td>\n",
       "      <td>30</td>\n",
       "      <td>15</td>\n",
       "      <td>3902051</td>\n",
       "    </tr>\n",
       "    <tr>\n",
       "      <th>3</th>\n",
       "      <td>Anambra State</td>\n",
       "      <td>Awka</td>\n",
       "      <td>4844</td>\n",
       "      <td>35</td>\n",
       "      <td>10</td>\n",
       "      <td>4177828</td>\n",
       "    </tr>\n",
       "    <tr>\n",
       "      <th>4</th>\n",
       "      <td>Bauchi State</td>\n",
       "      <td>Bauchi</td>\n",
       "      <td>45837</td>\n",
       "      <td>5</td>\n",
       "      <td>7</td>\n",
       "      <td>4653066</td>\n",
       "    </tr>\n",
       "  </tbody>\n",
       "</table>\n",
       "</div>"
      ],
      "text/plain": [
       "             State  Capital   Area Area_Position pop_position  pop_2006\n",
       "0       Abia State  Umuahia   6320            32           28   2845380\n",
       "1    Adamawa State     Yola  36917             8           26   3178950\n",
       "2  Akwa Ibom State      Uyo   7081            30           15   3902051\n",
       "3    Anambra State     Awka   4844            35           10   4177828\n",
       "4     Bauchi State   Bauchi  45837             5            7   4653066"
      ]
     },
     "execution_count": 326,
     "metadata": {},
     "output_type": "execute_result"
    }
   ],
   "source": [
    "#states.insert(0, 'ID', range(1, 1 + len(states)))\n",
    "states.head()"
   ]
  },
  {
   "cell_type": "code",
   "execution_count": 327,
   "metadata": {},
   "outputs": [],
   "source": [
    "url = 'https://en.wikipedia.org/wiki/List_of_Nigerian_states_by_GDP'"
   ]
  },
  {
   "cell_type": "code",
   "execution_count": 328,
   "metadata": {},
   "outputs": [],
   "source": [
    "my_list = pd.read_html(url)\n"
   ]
  },
  {
   "cell_type": "code",
   "execution_count": 329,
   "metadata": {},
   "outputs": [],
   "source": [
    "gdp = my_list[1]"
   ]
  },
  {
   "cell_type": "code",
   "execution_count": 330,
   "metadata": {},
   "outputs": [],
   "source": [
    "gdp = pd.DataFrame(gdp)\n",
    "gdp = gdp.sort_values('State')\n",
    "#gdp.insert(0, 'ID', range(1, 1 + len(gdp)))\n"
   ]
  },
  {
   "cell_type": "code",
   "execution_count": null,
   "metadata": {},
   "outputs": [],
   "source": [
    "df.Num_of_employees = df.Num_of_employees.replace({\"10-Jan\": \"1-10\",\n",
    "                                                   \"Nov-50\": \"11-50\"})"
   ]
  },
  {
   "cell_type": "code",
   "execution_count": 398,
   "metadata": {},
   "outputs": [
    {
     "data": {
      "text/html": [
       "<div>\n",
       "<style scoped>\n",
       "    .dataframe tbody tr th:only-of-type {\n",
       "        vertical-align: middle;\n",
       "    }\n",
       "\n",
       "    .dataframe tbody tr th {\n",
       "        vertical-align: top;\n",
       "    }\n",
       "\n",
       "    .dataframe thead th {\n",
       "        text-align: right;\n",
       "    }\n",
       "</style>\n",
       "<table border=\"1\" class=\"dataframe\">\n",
       "  <thead>\n",
       "    <tr style=\"text-align: right;\">\n",
       "      <th></th>\n",
       "      <th>gdp_position</th>\n",
       "      <th>State</th>\n",
       "      <th>gdp_2010</th>\n",
       "    </tr>\n",
       "  </thead>\n",
       "  <tbody>\n",
       "    <tr>\n",
       "      <th>11</th>\n",
       "      <td>12</td>\n",
       "      <td>Abia State</td>\n",
       "      <td>US$8,687</td>\n",
       "    </tr>\n",
       "    <tr>\n",
       "      <th>23</th>\n",
       "      <td>24</td>\n",
       "      <td>Adamawa State</td>\n",
       "      <td>US$4,582</td>\n",
       "    </tr>\n",
       "    <tr>\n",
       "      <th>7</th>\n",
       "      <td>8</td>\n",
       "      <td>Akwa Ibom State</td>\n",
       "      <td>US$11,179</td>\n",
       "    </tr>\n",
       "    <tr>\n",
       "      <th>15</th>\n",
       "      <td>16</td>\n",
       "      <td>Anambra State</td>\n",
       "      <td>US$6,764</td>\n",
       "    </tr>\n",
       "    <tr>\n",
       "      <th>21</th>\n",
       "      <td>22</td>\n",
       "      <td>Bauchi State</td>\n",
       "      <td>US$4,713</td>\n",
       "    </tr>\n",
       "  </tbody>\n",
       "</table>\n",
       "</div>"
      ],
      "text/plain": [
       "    gdp_position            State   gdp_2010\n",
       "11            12       Abia State   US$8,687\n",
       "23            24    Adamawa State   US$4,582\n",
       "7              8  Akwa Ibom State  US$11,179\n",
       "15            16    Anambra State   US$6,764\n",
       "21            22     Bauchi State   US$4,713"
      ]
     },
     "execution_count": 398,
     "metadata": {},
     "output_type": "execute_result"
    }
   ],
   "source": [
    "gdp= gdp.rename(columns={'GDP (in millions of USD)': 'gdp_2010', 'Rank': 'gdp_position'})\n",
    "#gdp.State = gdp.State.replace({'Nassarawa State': 'Nasarawa State'})\n",
    " \n",
    "gdp.head()"
   ]
  },
  {
   "cell_type": "code",
   "execution_count": 402,
   "metadata": {},
   "outputs": [],
   "source": [
    "#gdp.State = gdp.State.replace({'Nassarawa State': 'Nasarawa State'})\n",
    "states.State = states.State.replace({'Federal Capital Territory': 'FCT'})\n"
   ]
  },
  {
   "cell_type": "code",
   "execution_count": 408,
   "metadata": {},
   "outputs": [
    {
     "data": {
      "text/html": [
       "<div>\n",
       "<style scoped>\n",
       "    .dataframe tbody tr th:only-of-type {\n",
       "        vertical-align: middle;\n",
       "    }\n",
       "\n",
       "    .dataframe tbody tr th {\n",
       "        vertical-align: top;\n",
       "    }\n",
       "\n",
       "    .dataframe thead th {\n",
       "        text-align: right;\n",
       "    }\n",
       "</style>\n",
       "<table border=\"1\" class=\"dataframe\">\n",
       "  <thead>\n",
       "    <tr style=\"text-align: right;\">\n",
       "      <th></th>\n",
       "      <th>State</th>\n",
       "      <th>Capital</th>\n",
       "      <th>Area</th>\n",
       "      <th>Area_Position</th>\n",
       "      <th>pop_position</th>\n",
       "      <th>pop_2006</th>\n",
       "      <th>gdp_position</th>\n",
       "      <th>gdp_2010</th>\n",
       "    </tr>\n",
       "  </thead>\n",
       "  <tbody>\n",
       "    <tr>\n",
       "      <th>0</th>\n",
       "      <td>Abia State</td>\n",
       "      <td>Umuahia</td>\n",
       "      <td>6320</td>\n",
       "      <td>32</td>\n",
       "      <td>28</td>\n",
       "      <td>2845380</td>\n",
       "      <td>12.0</td>\n",
       "      <td>US$8,687</td>\n",
       "    </tr>\n",
       "    <tr>\n",
       "      <th>1</th>\n",
       "      <td>Adamawa State</td>\n",
       "      <td>Yola</td>\n",
       "      <td>36917</td>\n",
       "      <td>8</td>\n",
       "      <td>26</td>\n",
       "      <td>3178950</td>\n",
       "      <td>24.0</td>\n",
       "      <td>US$4,582</td>\n",
       "    </tr>\n",
       "    <tr>\n",
       "      <th>2</th>\n",
       "      <td>Akwa Ibom State</td>\n",
       "      <td>Uyo</td>\n",
       "      <td>7081</td>\n",
       "      <td>30</td>\n",
       "      <td>15</td>\n",
       "      <td>3902051</td>\n",
       "      <td>8.0</td>\n",
       "      <td>US$11,179</td>\n",
       "    </tr>\n",
       "    <tr>\n",
       "      <th>3</th>\n",
       "      <td>Anambra State</td>\n",
       "      <td>Awka</td>\n",
       "      <td>4844</td>\n",
       "      <td>35</td>\n",
       "      <td>10</td>\n",
       "      <td>4177828</td>\n",
       "      <td>16.0</td>\n",
       "      <td>US$6,764</td>\n",
       "    </tr>\n",
       "    <tr>\n",
       "      <th>4</th>\n",
       "      <td>Bauchi State</td>\n",
       "      <td>Bauchi</td>\n",
       "      <td>45837</td>\n",
       "      <td>5</td>\n",
       "      <td>7</td>\n",
       "      <td>4653066</td>\n",
       "      <td>22.0</td>\n",
       "      <td>US$4,713</td>\n",
       "    </tr>\n",
       "  </tbody>\n",
       "</table>\n",
       "</div>"
      ],
      "text/plain": [
       "             State  Capital   Area Area_Position pop_position  pop_2006  \\\n",
       "0       Abia State  Umuahia   6320            32           28   2845380   \n",
       "1    Adamawa State     Yola  36917             8           26   3178950   \n",
       "2  Akwa Ibom State      Uyo   7081            30           15   3902051   \n",
       "3    Anambra State     Awka   4844            35           10   4177828   \n",
       "4     Bauchi State   Bauchi  45837             5            7   4653066   \n",
       "\n",
       "   gdp_position   gdp_2010  \n",
       "0          12.0   US$8,687  \n",
       "1          24.0   US$4,582  \n",
       "2           8.0  US$11,179  \n",
       "3          16.0   US$6,764  \n",
       "4          22.0   US$4,713  "
      ]
     },
     "execution_count": 408,
     "metadata": {},
     "output_type": "execute_result"
    }
   ],
   "source": [
    "#gdp.iloc[24:27]\n",
    "states = states.merge(gdp, on='State', how='outer')\n",
    "states.head()"
   ]
  },
  {
   "cell_type": "code",
   "execution_count": 562,
   "metadata": {},
   "outputs": [],
   "source": [
    "url = 'https://en.wikipedia.org/wiki/Local_government_areas_of_Nigeria'\n",
    "my_list = pd.read_html(url)"
   ]
  },
  {
   "cell_type": "code",
   "execution_count": 563,
   "metadata": {},
   "outputs": [
    {
     "data": {
      "text/html": [
       "<div>\n",
       "<style scoped>\n",
       "    .dataframe tbody tr th:only-of-type {\n",
       "        vertical-align: middle;\n",
       "    }\n",
       "\n",
       "    .dataframe tbody tr th {\n",
       "        vertical-align: top;\n",
       "    }\n",
       "\n",
       "    .dataframe thead th {\n",
       "        text-align: right;\n",
       "    }\n",
       "</style>\n",
       "<table border=\"1\" class=\"dataframe\">\n",
       "  <thead>\n",
       "    <tr style=\"text-align: right;\">\n",
       "      <th></th>\n",
       "      <th>LGA</th>\n",
       "      <th>State</th>\n",
       "    </tr>\n",
       "  </thead>\n",
       "  <tbody>\n",
       "    <tr>\n",
       "      <th>0</th>\n",
       "      <td>Abadam</td>\n",
       "      <td>Borno State</td>\n",
       "    </tr>\n",
       "    <tr>\n",
       "      <th>1</th>\n",
       "      <td>Abaji</td>\n",
       "      <td>Federal Capital Territory</td>\n",
       "    </tr>\n",
       "    <tr>\n",
       "      <th>2</th>\n",
       "      <td>Abak</td>\n",
       "      <td>Akwa Ibom State</td>\n",
       "    </tr>\n",
       "    <tr>\n",
       "      <th>3</th>\n",
       "      <td>Abakaliki</td>\n",
       "      <td>Ebonyi State</td>\n",
       "    </tr>\n",
       "    <tr>\n",
       "      <th>4</th>\n",
       "      <td>Aba North</td>\n",
       "      <td>Abia State</td>\n",
       "    </tr>\n",
       "  </tbody>\n",
       "</table>\n",
       "</div>"
      ],
      "text/plain": [
       "         LGA                      State\n",
       "0     Abadam                Borno State\n",
       "1      Abaji  Federal Capital Territory\n",
       "2       Abak            Akwa Ibom State\n",
       "3  Abakaliki               Ebonyi State\n",
       "4  Aba North                 Abia State"
      ]
     },
     "execution_count": 563,
     "metadata": {},
     "output_type": "execute_result"
    }
   ],
   "source": [
    "lga = pd.DataFrame(my_list[1])\n",
    "lga.drop('Website', axis=1, inplace=True)\n",
    "lga.head()"
   ]
  },
  {
   "cell_type": "code",
   "execution_count": 566,
   "metadata": {},
   "outputs": [
    {
     "data": {
      "text/html": [
       "<div>\n",
       "<style scoped>\n",
       "    .dataframe tbody tr th:only-of-type {\n",
       "        vertical-align: middle;\n",
       "    }\n",
       "\n",
       "    .dataframe tbody tr th {\n",
       "        vertical-align: top;\n",
       "    }\n",
       "\n",
       "    .dataframe thead th {\n",
       "        text-align: right;\n",
       "    }\n",
       "</style>\n",
       "<table border=\"1\" class=\"dataframe\">\n",
       "  <thead>\n",
       "    <tr style=\"text-align: right;\">\n",
       "      <th></th>\n",
       "      <th>LGA</th>\n",
       "      <th>State</th>\n",
       "    </tr>\n",
       "  </thead>\n",
       "  <tbody>\n",
       "    <tr>\n",
       "      <th>0</th>\n",
       "      <td>Abadam</td>\n",
       "      <td>Borno State</td>\n",
       "    </tr>\n",
       "    <tr>\n",
       "      <th>1</th>\n",
       "      <td>Abaji</td>\n",
       "      <td>FCT</td>\n",
       "    </tr>\n",
       "    <tr>\n",
       "      <th>2</th>\n",
       "      <td>Abak</td>\n",
       "      <td>Akwa Ibom State</td>\n",
       "    </tr>\n",
       "    <tr>\n",
       "      <th>3</th>\n",
       "      <td>Abakaliki</td>\n",
       "      <td>Ebonyi State</td>\n",
       "    </tr>\n",
       "    <tr>\n",
       "      <th>4</th>\n",
       "      <td>Aba North</td>\n",
       "      <td>Abia State</td>\n",
       "    </tr>\n",
       "  </tbody>\n",
       "</table>\n",
       "</div>"
      ],
      "text/plain": [
       "         LGA            State\n",
       "0     Abadam      Borno State\n",
       "1      Abaji              FCT\n",
       "2       Abak  Akwa Ibom State\n",
       "3  Abakaliki     Ebonyi State\n",
       "4  Aba North       Abia State"
      ]
     },
     "execution_count": 566,
     "metadata": {},
     "output_type": "execute_result"
    }
   ],
   "source": [
    "lga.State = lga.State.replace({'Federal Capital Territory': 'FCT'})\n",
    "lga.head()"
   ]
  },
  {
   "cell_type": "code",
   "execution_count": 572,
   "metadata": {},
   "outputs": [
    {
     "data": {
      "text/html": [
       "<div>\n",
       "<style scoped>\n",
       "    .dataframe tbody tr th:only-of-type {\n",
       "        vertical-align: middle;\n",
       "    }\n",
       "\n",
       "    .dataframe tbody tr th {\n",
       "        vertical-align: top;\n",
       "    }\n",
       "\n",
       "    .dataframe thead th {\n",
       "        text-align: right;\n",
       "    }\n",
       "</style>\n",
       "<table border=\"1\" class=\"dataframe\">\n",
       "  <thead>\n",
       "    <tr style=\"text-align: right;\">\n",
       "      <th></th>\n",
       "      <th>LGA</th>\n",
       "      <th>State</th>\n",
       "    </tr>\n",
       "  </thead>\n",
       "  <tbody>\n",
       "    <tr>\n",
       "      <th>0</th>\n",
       "      <td>Abadam</td>\n",
       "      <td>Borno State</td>\n",
       "    </tr>\n",
       "    <tr>\n",
       "      <th>1</th>\n",
       "      <td>Abaji</td>\n",
       "      <td>FCT</td>\n",
       "    </tr>\n",
       "    <tr>\n",
       "      <th>2</th>\n",
       "      <td>Abak</td>\n",
       "      <td>Akwa Ibom State</td>\n",
       "    </tr>\n",
       "    <tr>\n",
       "      <th>3</th>\n",
       "      <td>Abakaliki</td>\n",
       "      <td>Ebonyi State</td>\n",
       "    </tr>\n",
       "    <tr>\n",
       "      <th>4</th>\n",
       "      <td>Aba North</td>\n",
       "      <td>Abia State</td>\n",
       "    </tr>\n",
       "    <tr>\n",
       "      <th>...</th>\n",
       "      <td>...</td>\n",
       "      <td>...</td>\n",
       "    </tr>\n",
       "    <tr>\n",
       "      <th>769</th>\n",
       "      <td>Zangon Kataf</td>\n",
       "      <td>Kaduna State</td>\n",
       "    </tr>\n",
       "    <tr>\n",
       "      <th>770</th>\n",
       "      <td>Zaria</td>\n",
       "      <td>Kaduna State</td>\n",
       "    </tr>\n",
       "    <tr>\n",
       "      <th>771</th>\n",
       "      <td>Zing</td>\n",
       "      <td>Taraba State</td>\n",
       "    </tr>\n",
       "    <tr>\n",
       "      <th>772</th>\n",
       "      <td>Zurmi</td>\n",
       "      <td>Zamfara State</td>\n",
       "    </tr>\n",
       "    <tr>\n",
       "      <th>773</th>\n",
       "      <td>Zuru</td>\n",
       "      <td>Kebbi State</td>\n",
       "    </tr>\n",
       "  </tbody>\n",
       "</table>\n",
       "<p>774 rows × 2 columns</p>\n",
       "</div>"
      ],
      "text/plain": [
       "              LGA            State\n",
       "0          Abadam      Borno State\n",
       "1           Abaji              FCT\n",
       "2            Abak  Akwa Ibom State\n",
       "3       Abakaliki     Ebonyi State\n",
       "4       Aba North       Abia State\n",
       "..            ...              ...\n",
       "769  Zangon Kataf     Kaduna State\n",
       "770         Zaria     Kaduna State\n",
       "771          Zing     Taraba State\n",
       "772         Zurmi    Zamfara State\n",
       "773          Zuru      Kebbi State\n",
       "\n",
       "[774 rows x 2 columns]"
      ]
     },
     "execution_count": 572,
     "metadata": {},
     "output_type": "execute_result"
    }
   ],
   "source": [
    "lga\n"
   ]
  },
  {
   "cell_type": "markdown",
   "metadata": {},
   "source": [
    "Second solution is faster\n",
    "\n",
    "````python\n",
    "%%timeit\n",
    "{idx: group['LGA'].tolist() \n",
    "     for idx, group in lga.groupby('State')}````\n",
    "10.8 ms ± 612 µs per loop (mean ± std. dev. of 7 runs, 100 loops each)\n",
    "\n",
    "````python\n",
    "%%timeit\n",
    "lga.groupby('State')['LGA'].apply(lambda x: x.tolist()).to_dict()````\n",
    "6.37 ms ± 225 µs per loop (mean ± std. dev. of 7 runs, 100 loops each)"
   ]
  },
  {
   "cell_type": "code",
   "execution_count": 502,
   "metadata": {},
   "outputs": [],
   "source": [
    "\n",
    "lga =lga.groupby('State')['LGA'].apply(lambda x: x.tolist()).to_dict()\n"
   ]
  },
  {
   "cell_type": "code",
   "execution_count": 504,
   "metadata": {},
   "outputs": [
    {
     "data": {
      "text/plain": [
       "['Kuje', 'Gwagwalada', 'Abaji', 'Kwali', 'Bwari', 'Abuja']"
      ]
     },
     "execution_count": 504,
     "metadata": {},
     "output_type": "execute_result"
    }
   ],
   "source": [
    "lga['FCT']"
   ]
  },
  {
   "cell_type": "code",
   "execution_count": 516,
   "metadata": {},
   "outputs": [
    {
     "data": {
      "text/plain": [
       "dict_items"
      ]
     },
     "execution_count": 516,
     "metadata": {},
     "output_type": "execute_result"
    }
   ],
   "source": [
    "k = lga.items()\n",
    "type(k)"
   ]
  },
  {
   "cell_type": "code",
   "execution_count": 527,
   "metadata": {},
   "outputs": [],
   "source": [
    "LGA  = list(lga.items())"
   ]
  },
  {
   "cell_type": "code",
   "execution_count": 528,
   "metadata": {},
   "outputs": [
    {
     "data": {
      "text/plain": [
       "list"
      ]
     },
     "execution_count": 528,
     "metadata": {},
     "output_type": "execute_result"
    }
   ],
   "source": [
    "type(LGA)"
   ]
  },
  {
   "cell_type": "code",
   "execution_count": 529,
   "metadata": {},
   "outputs": [
    {
     "data": {
      "text/plain": [
       "('Ebonyi State',\n",
       " ['Ezza North',\n",
       "  'Afikpo South (Edda)',\n",
       "  'Ohaukwu',\n",
       "  'Ikwo',\n",
       "  'Ezza South',\n",
       "  'Ebonyi',\n",
       "  'Ohaozara',\n",
       "  'Ishielu',\n",
       "  'Ivo',\n",
       "  'Afikpo North',\n",
       "  'Izzi',\n",
       "  'Onicha',\n",
       "  'Abakaliki'])"
      ]
     },
     "execution_count": 529,
     "metadata": {},
     "output_type": "execute_result"
    }
   ],
   "source": [
    "LGA[10]"
   ]
  },
  {
   "cell_type": "code",
   "execution_count": 530,
   "metadata": {},
   "outputs": [],
   "source": [
    "import json"
   ]
  },
  {
   "cell_type": "code",
   "execution_count": 540,
   "metadata": {},
   "outputs": [],
   "source": [
    "with open('LGA.json', 'w') as f:\n",
    "    json.dump(lga, f)"
   ]
  },
  {
   "cell_type": "code",
   "execution_count": 545,
   "metadata": {},
   "outputs": [],
   "source": [
    "states.to_csv('states.csv')"
   ]
  },
  {
   "cell_type": "code",
   "execution_count": 560,
   "metadata": {},
   "outputs": [
    {
     "data": {
      "text/html": [
       "<div>\n",
       "<style scoped>\n",
       "    .dataframe tbody tr th:only-of-type {\n",
       "        vertical-align: middle;\n",
       "    }\n",
       "\n",
       "    .dataframe tbody tr th {\n",
       "        vertical-align: top;\n",
       "    }\n",
       "\n",
       "    .dataframe thead th {\n",
       "        text-align: right;\n",
       "    }\n",
       "</style>\n",
       "<table border=\"1\" class=\"dataframe\">\n",
       "  <thead>\n",
       "    <tr style=\"text-align: right;\">\n",
       "      <th></th>\n",
       "      <th>LGA</th>\n",
       "      <th>State</th>\n",
       "    </tr>\n",
       "  </thead>\n",
       "  <tbody>\n",
       "    <tr>\n",
       "      <th>573</th>\n",
       "      <td>Ohafia</td>\n",
       "      <td>Abia State</td>\n",
       "    </tr>\n",
       "    <tr>\n",
       "      <th>727</th>\n",
       "      <td>Umuahia North</td>\n",
       "      <td>Abia State</td>\n",
       "    </tr>\n",
       "    <tr>\n",
       "      <th>725</th>\n",
       "      <td>Ukwa West</td>\n",
       "      <td>Abia State</td>\n",
       "    </tr>\n",
       "    <tr>\n",
       "      <th>724</th>\n",
       "      <td>Ukwa East</td>\n",
       "      <td>Abia State</td>\n",
       "    </tr>\n",
       "    <tr>\n",
       "      <th>720</th>\n",
       "      <td>Ugwunagbo</td>\n",
       "      <td>Abia State</td>\n",
       "    </tr>\n",
       "    <tr>\n",
       "      <th>...</th>\n",
       "      <td>...</td>\n",
       "      <td>...</td>\n",
       "    </tr>\n",
       "    <tr>\n",
       "      <th>492</th>\n",
       "      <td>Maru</td>\n",
       "      <td>Zamfara State</td>\n",
       "    </tr>\n",
       "    <tr>\n",
       "      <th>699</th>\n",
       "      <td>Talata Mafara</td>\n",
       "      <td>Zamfara State</td>\n",
       "    </tr>\n",
       "    <tr>\n",
       "      <th>54</th>\n",
       "      <td>Anka</td>\n",
       "      <td>Zamfara State</td>\n",
       "    </tr>\n",
       "    <tr>\n",
       "      <th>129</th>\n",
       "      <td>Bungudu</td>\n",
       "      <td>Zamfara State</td>\n",
       "    </tr>\n",
       "    <tr>\n",
       "      <th>86</th>\n",
       "      <td>Bakura</td>\n",
       "      <td>Zamfara State</td>\n",
       "    </tr>\n",
       "  </tbody>\n",
       "</table>\n",
       "<p>774 rows × 2 columns</p>\n",
       "</div>"
      ],
      "text/plain": [
       "               LGA          State\n",
       "573         Ohafia     Abia State\n",
       "727  Umuahia North     Abia State\n",
       "725      Ukwa West     Abia State\n",
       "724      Ukwa East     Abia State\n",
       "720      Ugwunagbo     Abia State\n",
       "..             ...            ...\n",
       "492           Maru  Zamfara State\n",
       "699  Talata Mafara  Zamfara State\n",
       "54            Anka  Zamfara State\n",
       "129        Bungudu  Zamfara State\n",
       "86          Bakura  Zamfara State\n",
       "\n",
       "[774 rows x 2 columns]"
      ]
     },
     "execution_count": 560,
     "metadata": {},
     "output_type": "execute_result"
    }
   ],
   "source": [
    "lga.reindex()"
   ]
  },
  {
   "cell_type": "code",
   "execution_count": 561,
   "metadata": {},
   "outputs": [
    {
     "data": {
      "text/html": [
       "<div>\n",
       "<style scoped>\n",
       "    .dataframe tbody tr th:only-of-type {\n",
       "        vertical-align: middle;\n",
       "    }\n",
       "\n",
       "    .dataframe tbody tr th {\n",
       "        vertical-align: top;\n",
       "    }\n",
       "\n",
       "    .dataframe thead th {\n",
       "        text-align: right;\n",
       "    }\n",
       "</style>\n",
       "<table border=\"1\" class=\"dataframe\">\n",
       "  <thead>\n",
       "    <tr style=\"text-align: right;\">\n",
       "      <th></th>\n",
       "      <th>LGA</th>\n",
       "      <th>State</th>\n",
       "    </tr>\n",
       "  </thead>\n",
       "  <tbody>\n",
       "    <tr>\n",
       "      <th>573</th>\n",
       "      <td>Ohafia</td>\n",
       "      <td>Abia State</td>\n",
       "    </tr>\n",
       "    <tr>\n",
       "      <th>727</th>\n",
       "      <td>Umuahia North</td>\n",
       "      <td>Abia State</td>\n",
       "    </tr>\n",
       "    <tr>\n",
       "      <th>725</th>\n",
       "      <td>Ukwa West</td>\n",
       "      <td>Abia State</td>\n",
       "    </tr>\n",
       "    <tr>\n",
       "      <th>724</th>\n",
       "      <td>Ukwa East</td>\n",
       "      <td>Abia State</td>\n",
       "    </tr>\n",
       "    <tr>\n",
       "      <th>720</th>\n",
       "      <td>Ugwunagbo</td>\n",
       "      <td>Abia State</td>\n",
       "    </tr>\n",
       "    <tr>\n",
       "      <th>...</th>\n",
       "      <td>...</td>\n",
       "      <td>...</td>\n",
       "    </tr>\n",
       "    <tr>\n",
       "      <th>492</th>\n",
       "      <td>Maru</td>\n",
       "      <td>Zamfara State</td>\n",
       "    </tr>\n",
       "    <tr>\n",
       "      <th>699</th>\n",
       "      <td>Talata Mafara</td>\n",
       "      <td>Zamfara State</td>\n",
       "    </tr>\n",
       "    <tr>\n",
       "      <th>54</th>\n",
       "      <td>Anka</td>\n",
       "      <td>Zamfara State</td>\n",
       "    </tr>\n",
       "    <tr>\n",
       "      <th>129</th>\n",
       "      <td>Bungudu</td>\n",
       "      <td>Zamfara State</td>\n",
       "    </tr>\n",
       "    <tr>\n",
       "      <th>86</th>\n",
       "      <td>Bakura</td>\n",
       "      <td>Zamfara State</td>\n",
       "    </tr>\n",
       "  </tbody>\n",
       "</table>\n",
       "<p>774 rows × 2 columns</p>\n",
       "</div>"
      ],
      "text/plain": [
       "               LGA          State\n",
       "573         Ohafia     Abia State\n",
       "727  Umuahia North     Abia State\n",
       "725      Ukwa West     Abia State\n",
       "724      Ukwa East     Abia State\n",
       "720      Ugwunagbo     Abia State\n",
       "..             ...            ...\n",
       "492           Maru  Zamfara State\n",
       "699  Talata Mafara  Zamfara State\n",
       "54            Anka  Zamfara State\n",
       "129        Bungudu  Zamfara State\n",
       "86          Bakura  Zamfara State\n",
       "\n",
       "[774 rows x 2 columns]"
      ]
     },
     "execution_count": 561,
     "metadata": {},
     "output_type": "execute_result"
    }
   ],
   "source": [
    "lga"
   ]
  },
  {
   "cell_type": "code",
   "execution_count": null,
   "metadata": {},
   "outputs": [],
   "source": []
  }
 ],
 "metadata": {
  "kernelspec": {
   "display_name": "Python 3",
   "language": "python",
   "name": "python3"
  },
  "language_info": {
   "codemirror_mode": {
    "name": "ipython",
    "version": 3
   },
   "file_extension": ".py",
   "mimetype": "text/x-python",
   "name": "python",
   "nbconvert_exporter": "python",
   "pygments_lexer": "ipython3",
   "version": "3.7.6"
  }
 },
 "nbformat": 4,
 "nbformat_minor": 2
}
